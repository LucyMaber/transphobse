{
 "cells": [
  {
   "cell_type": "code",
   "execution_count": 9,
   "metadata": {},
   "outputs": [
    {
     "name": "stdout",
     "output_type": "stream",
     "text": [
      "lang en-uk does not exist    \n"
     ]
    },
    {
     "ename": "SystemExit",
     "evalue": "1",
     "output_type": "error",
     "traceback": [
      "An exception has occurred, use %tb to see the full traceback.\n",
      "\u001b[0;31mSystemExit\u001b[0m\u001b[0;31m:\u001b[0m 1\n"
     ]
    },
    {
     "name": "stderr",
     "output_type": "stream",
     "text": [
      "/home/lucy/Desktop/transphobse/.venv/lib/python3.12/site-packages/IPython/core/interactiveshell.py:3585: UserWarning: To exit: use 'exit', 'quit', or Ctrl-D.\n",
      "  warn(\"To exit: use 'exit', 'quit', or Ctrl-D.\", stacklevel=1)\n"
     ]
    }
   ],
   "source": [
    "import yt_dlp\n",
    "from pydub import AudioSegment\n",
    "import wave\n",
    "from vosk import Model, KaldiRecognizer, SetLogLevel\n",
    "import json\n",
    "\n",
    "# Set log level to minimize Vosk output\n",
    "SetLogLevel(0)\n",
    "\n",
    "def download_video(url):\n",
    "    try:\n",
    "        ydl_opts = {\n",
    "            'format': 'best',\n",
    "            'outtmpl': '%(title)s.%(ext)s',\n",
    "            'writesubtitles': True,\n",
    "            'subtitleslangs': ['en'],\n",
    "            'quiet': True,\n",
    "        }\n",
    "\n",
    "        with yt_dlp.YoutubeDL(ydl_opts) as ydl:\n",
    "            info_dict = ydl.extract_info(url, download=True)\n",
    "            video_filename = ydl.prepare_filename(info_dict)\n",
    "        \n",
    "        return video_filename\n",
    "\n",
    "    except Exception as e:\n",
    "        print(f\"Error downloading video: {e}\")\n",
    "        return None\n",
    "\n",
    "def extract_audio(video_filename):\n",
    "    try:\n",
    "        audio_filename = video_filename.replace(\".mp4\", \".wav\")\n",
    "        video = AudioSegment.from_file(video_filename, format=\"mp4\")\n",
    "        video.export(audio_filename, format=\"wav\")\n",
    "        return audio_filename\n",
    "    except Exception as e:\n",
    "        print(f\"Error extracting audio: {e}\")\n",
    "        return None\n",
    "\n",
    "def generate_transcript(audio_filename):\n",
    "    try:\n",
    "        wf = wave.open(audio_filename, \"rb\")\n",
    "        model = Model(lang=\"en-us\")  # Ensure model is correctly set up\n",
    "        rec = KaldiRecognizer(model, wf.getframerate())\n",
    "        rec.SetWords(True)\n",
    "        \n",
    "        transcript = []\n",
    "        while True:\n",
    "            data = wf.readframes(4096)  # Adjust buffer size\n",
    "            if len(data) == 0:\n",
    "                break\n",
    "            if rec.AcceptWaveform(data):\n",
    "                result = json.loads(rec.Result())\n",
    "                transcript.append(result)\n",
    "            else:\n",
    "                partial_result = json.loads(rec.PartialResult())\n",
    "                transcript.append(partial_result)\n",
    "        \n",
    "        final_result = json.loads(rec.FinalResult())\n",
    "        transcript.append(final_result)\n",
    "        \n",
    "        return json.dumps(transcript, indent=2)\n",
    "\n",
    "    except Exception as e:\n",
    "        print(f\"Error generating transcript: {e}\")\n",
    "        return None\n",
    "\n",
    "# Example usage:\n",
    "if __name__ == \"__main__\":\n",
    "    video_url = \"https://www.bbc.co.uk/sounds/play/p03r8pgf\"  # Replace with actual BBC URL\n",
    "    video_filename = download_video(video_url)\n",
    "\n",
    "    if video_filename:\n",
    "        audio_filename = extract_audio(video_filename)\n",
    "\n",
    "        if audio_filename:\n",
    "            transcript = generate_transcript(audio_filename)\n",
    "            if transcript:\n",
    "                print(\"Generated Transcript:\\n\", transcript)\n"
   ]
  }
 ],
 "metadata": {
  "kernelspec": {
   "display_name": ".venv",
   "language": "python",
   "name": "python3"
  },
  "language_info": {
   "codemirror_mode": {
    "name": "ipython",
    "version": 3
   },
   "file_extension": ".py",
   "mimetype": "text/x-python",
   "name": "python",
   "nbconvert_exporter": "python",
   "pygments_lexer": "ipython3",
   "version": "3.12.3"
  }
 },
 "nbformat": 4,
 "nbformat_minor": 2
}
